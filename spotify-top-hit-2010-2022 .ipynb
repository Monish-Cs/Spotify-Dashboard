{
 "cells": [
  {
   "cell_type": "markdown",
   "id": "6629608d",
   "metadata": {
    "papermill": {
     "duration": 0.008944,
     "end_time": "2023-09-08T05:00:33.212663",
     "exception": false,
     "start_time": "2023-09-08T05:00:33.203719",
     "status": "completed"
    },
    "tags": []
   },
   "source": [
    "# 1. Import Libaries"
   ]
  },
  {
   "cell_type": "code",
   "execution_count": 1,
   "id": "fa90459b",
   "metadata": {
    "execution": {
     "iopub.execute_input": "2023-09-08T05:00:33.230710Z",
     "iopub.status.busy": "2023-09-08T05:00:33.230240Z",
     "iopub.status.idle": "2023-09-08T05:00:49.897238Z",
     "shell.execute_reply": "2023-09-08T05:00:49.895707Z"
    },
    "papermill": {
     "duration": 16.679811,
     "end_time": "2023-09-08T05:00:49.900561",
     "exception": false,
     "start_time": "2023-09-08T05:00:33.220750",
     "status": "completed"
    },
    "tags": []
   },
   "outputs": [
    {
     "name": "stdout",
     "output_type": "stream",
     "text": [
      "Collecting spotipy\r\n",
      "  Downloading spotipy-2.23.0-py3-none-any.whl (29 kB)\r\n",
      "Requirement already satisfied: sqlalchemy in /opt/conda/lib/python3.10/site-packages (2.0.17)\r\n",
      "Collecting redis>=3.5.3 (from spotipy)\r\n",
      "  Downloading redis-5.0.0-py3-none-any.whl (250 kB)\r\n",
      "\u001b[2K     \u001b[90m━━━━━━━━━━━━━━━━━━━━━━━━━━━━━━━━━━━━━━\u001b[0m \u001b[32m250.1/250.1 kB\u001b[0m \u001b[31m10.6 MB/s\u001b[0m eta \u001b[36m0:00:00\u001b[0m\r\n",
      "\u001b[?25hRequirement already satisfied: requests>=2.25.0 in /opt/conda/lib/python3.10/site-packages (from spotipy) (2.31.0)\r\n",
      "Requirement already satisfied: six>=1.15.0 in /opt/conda/lib/python3.10/site-packages (from spotipy) (1.16.0)\r\n",
      "Requirement already satisfied: urllib3>=1.26.0 in /opt/conda/lib/python3.10/site-packages (from spotipy) (1.26.15)\r\n",
      "Requirement already satisfied: typing-extensions>=4.2.0 in /opt/conda/lib/python3.10/site-packages (from sqlalchemy) (4.6.3)\r\n",
      "Requirement already satisfied: greenlet!=0.4.17 in /opt/conda/lib/python3.10/site-packages (from sqlalchemy) (2.0.2)\r\n",
      "Requirement already satisfied: async-timeout>=4.0.2 in /opt/conda/lib/python3.10/site-packages (from redis>=3.5.3->spotipy) (4.0.2)\r\n",
      "Requirement already satisfied: charset-normalizer<4,>=2 in /opt/conda/lib/python3.10/site-packages (from requests>=2.25.0->spotipy) (3.1.0)\r\n",
      "Requirement already satisfied: idna<4,>=2.5 in /opt/conda/lib/python3.10/site-packages (from requests>=2.25.0->spotipy) (3.4)\r\n",
      "Requirement already satisfied: certifi>=2017.4.17 in /opt/conda/lib/python3.10/site-packages (from requests>=2.25.0->spotipy) (2023.7.22)\r\n",
      "Installing collected packages: redis, spotipy\r\n",
      "Successfully installed redis-5.0.0 spotipy-2.23.0\r\n",
      "Note: you may need to restart the kernel to use updated packages.\n"
     ]
    }
   ],
   "source": [
    "pip install spotipy sqlalchemy"
   ]
  },
  {
   "cell_type": "code",
   "execution_count": 2,
   "id": "fd2c9388",
   "metadata": {
    "execution": {
     "iopub.execute_input": "2023-09-08T05:00:49.921433Z",
     "iopub.status.busy": "2023-09-08T05:00:49.920985Z",
     "iopub.status.idle": "2023-09-08T05:00:50.971096Z",
     "shell.execute_reply": "2023-09-08T05:00:50.969794Z"
    },
    "papermill": {
     "duration": 1.064243,
     "end_time": "2023-09-08T05:00:50.974208",
     "exception": false,
     "start_time": "2023-09-08T05:00:49.909965",
     "status": "completed"
    },
    "tags": []
   },
   "outputs": [],
   "source": [
    "import pandas as pd\n",
    "import numpy as np\n",
    "import spotipy\n",
    "import requests\n",
    "from time import sleep"
   ]
  },
  {
   "cell_type": "markdown",
   "id": "2af39f3e",
   "metadata": {
    "papermill": {
     "duration": 0.008811,
     "end_time": "2023-09-08T05:00:50.992216",
     "exception": false,
     "start_time": "2023-09-08T05:00:50.983405",
     "status": "completed"
    },
    "tags": []
   },
   "source": [
    "# 2. input client id and client secret"
   ]
  },
  {
   "cell_type": "code",
   "execution_count": 3,
   "id": "6964137d",
   "metadata": {
    "execution": {
     "iopub.execute_input": "2023-09-08T05:00:51.014564Z",
     "iopub.status.busy": "2023-09-08T05:00:51.013484Z",
     "iopub.status.idle": "2023-09-08T05:00:51.019667Z",
     "shell.execute_reply": "2023-09-08T05:00:51.018423Z"
    },
    "papermill": {
     "duration": 0.021025,
     "end_time": "2023-09-08T05:00:51.022531",
     "exception": false,
     "start_time": "2023-09-08T05:00:51.001506",
     "status": "completed"
    },
    "tags": []
   },
   "outputs": [],
   "source": [
    "# Prompt the user to enter their Spotify API credentials\n",
    "#client_id = input('Enter your Spotify client ID: ')\n",
    "#client_secret = input('Enter your Spotify client secret: ')"
   ]
  },
  {
   "cell_type": "code",
   "execution_count": 4,
   "id": "edae25ac",
   "metadata": {
    "execution": {
     "iopub.execute_input": "2023-09-08T05:00:51.043058Z",
     "iopub.status.busy": "2023-09-08T05:00:51.042601Z",
     "iopub.status.idle": "2023-09-08T05:00:51.048386Z",
     "shell.execute_reply": "2023-09-08T05:00:51.047158Z"
    },
    "papermill": {
     "duration": 0.019223,
     "end_time": "2023-09-08T05:00:51.051180",
     "exception": false,
     "start_time": "2023-09-08T05:00:51.031957",
     "status": "completed"
    },
    "tags": []
   },
   "outputs": [],
   "source": [
    "client_id = '5fc66d90407b40dca87270453aeeddce'\n",
    "client_secret = '8bbc6f5427dd4758ad00398414e8ac89'"
   ]
  },
  {
   "cell_type": "markdown",
   "id": "28c2cf99",
   "metadata": {
    "papermill": {
     "duration": 0.00874,
     "end_time": "2023-09-08T05:00:51.069032",
     "exception": false,
     "start_time": "2023-09-08T05:00:51.060292",
     "status": "completed"
    },
    "tags": []
   },
   "source": [
    "# 3. pull data"
   ]
  },
  {
   "cell_type": "code",
   "execution_count": 5,
   "id": "19da58cd",
   "metadata": {
    "execution": {
     "iopub.execute_input": "2023-09-08T05:00:51.089740Z",
     "iopub.status.busy": "2023-09-08T05:00:51.089298Z",
     "iopub.status.idle": "2023-09-08T05:00:51.209524Z",
     "shell.execute_reply": "2023-09-08T05:00:51.208063Z"
    },
    "papermill": {
     "duration": 0.134704,
     "end_time": "2023-09-08T05:00:51.212898",
     "exception": false,
     "start_time": "2023-09-08T05:00:51.078194",
     "status": "completed"
    },
    "tags": []
   },
   "outputs": [],
   "source": [
    "# Get an access token from the Spotify API\n",
    "response = requests.post('https://accounts.spotify.com/api/token', data={'grant_type': 'client_credentials'}, auth=(client_id, client_secret))\n",
    "access_token = response.json()['access_token']"
   ]
  },
  {
   "cell_type": "code",
   "execution_count": 6,
   "id": "d12ed9c3",
   "metadata": {
    "execution": {
     "iopub.execute_input": "2023-09-08T05:00:51.233857Z",
     "iopub.status.busy": "2023-09-08T05:00:51.233393Z",
     "iopub.status.idle": "2023-09-08T05:00:51.239583Z",
     "shell.execute_reply": "2023-09-08T05:00:51.238346Z"
    },
    "papermill": {
     "duration": 0.020041,
     "end_time": "2023-09-08T05:00:51.242238",
     "exception": false,
     "start_time": "2023-09-08T05:00:51.222197",
     "status": "completed"
    },
    "tags": []
   },
   "outputs": [],
   "source": [
    "# Set up the headers for the HTTP GET request\n",
    "headers = {\n",
    "    'Authorization': f'Bearer {access_token}',\n",
    "    'Content-Type': 'application/json',\n",
    "}"
   ]
  },
  {
   "cell_type": "code",
   "execution_count": 7,
   "id": "ac348426",
   "metadata": {
    "execution": {
     "iopub.execute_input": "2023-09-08T05:00:51.262684Z",
     "iopub.status.busy": "2023-09-08T05:00:51.262268Z",
     "iopub.status.idle": "2023-09-08T05:00:51.275472Z",
     "shell.execute_reply": "2023-09-08T05:00:51.274263Z"
    },
    "papermill": {
     "duration": 0.02649,
     "end_time": "2023-09-08T05:00:51.277940",
     "exception": false,
     "start_time": "2023-09-08T05:00:51.251450",
     "status": "completed"
    },
    "tags": []
   },
   "outputs": [],
   "source": [
    "urls = ['https://open.spotify.com/playlist/37i9dQZF1DWUZv12GM5cFk',\n",
    "      'https://open.spotify.com/playlist/37i9dQZF1DX9Ol4tZWPH6V',\n",
    "      'https://open.spotify.com/playlist/37i9dQZF1DX0P7PzzKwEKl',\n",
    "      'https://open.spotify.com/playlist/37i9dQZF1DXaW8fzPh9b08',\n",
    "      'https://open.spotify.com/playlist/37i9dQZF1DWTWdbR13PQYH',\n",
    "      'https://open.spotify.com/playlist/37i9dQZF1DWWzQTBs5BHX9',\n",
    "      'https://open.spotify.com/playlist/37i9dQZF1DX1vSJnMeoy3V',\n",
    "      'https://open.spotify.com/playlist/37i9dQZF1DX3j9EYdzv2N9',\n",
    "      'https://open.spotify.com/playlist/37i9dQZF1DWYuGZUE4XQXm',\n",
    "      'https://open.spotify.com/playlist/37i9dQZF1DX4UkKv8ED8jp',\n",
    "      'https://open.spotify.com/playlist/37i9dQZF1DXc6IFF23C9jj',\n",
    "      'https://open.spotify.com/playlist/37i9dQZF1DXcagnSNtrGuJ',\n",
    "      'https://open.spotify.com/playlist/37i9dQZF1DX0yEZaMOXna3',\n",
    "      'https://open.spotify.com/playlist/37i9dQZF1DX3Sp0P28SIer',\n",
    "      'https://open.spotify.com/playlist/37i9dQZF1DX0h0QnLkMBl4',\n",
    "      'https://open.spotify.com/playlist/37i9dQZF1DX9ukdrXQLJGZ',\n",
    "      'https://open.spotify.com/playlist/37i9dQZF1DX8XZ6AUo9R4R',\n",
    "      'https://open.spotify.com/playlist/37i9dQZF1DWTE7dVUebpUW',\n",
    "      'https://open.spotify.com/playlist/37i9dQZF1DXe2bobNYDtW8',\n",
    "      'https://open.spotify.com/playlist/37i9dQZF1DWVRSukIED0e9',\n",
    "      'https://open.spotify.com/playlist/2fmTTbBkXi8pewbUvG3CeZ',\n",
    "      'https://open.spotify.com/playlist/5GhQiRkGuqzpWZSE7OU4Se',\n",
    "      'https://open.spotify.com/playlist/56r5qRUv3jSxADdmBkhcz7']\n",
    "\n",
    "year = []\n",
    "for i in range(2000,2023):\n",
    "    year.append(i)\n",
    "\n",
    "playlists_api = []\n",
    "for url in urls:\n",
    "    id = url.split(\"/\")[-1].split(\"?\")[0]\n",
    "    api = 'https://api.spotify.com/v1/playlists/' + id + '/tracks'\n",
    "    playlists_api.append(api)\n",
    "playlists_api = pd.Series(playlists_api, index = year)"
   ]
  },
  {
   "cell_type": "code",
   "execution_count": 8,
   "id": "20bde426",
   "metadata": {
    "execution": {
     "iopub.execute_input": "2023-09-08T05:00:51.298593Z",
     "iopub.status.busy": "2023-09-08T05:00:51.298138Z",
     "iopub.status.idle": "2023-09-08T05:00:51.309669Z",
     "shell.execute_reply": "2023-09-08T05:00:51.308364Z"
    },
    "papermill": {
     "duration": 0.025395,
     "end_time": "2023-09-08T05:00:51.312384",
     "exception": false,
     "start_time": "2023-09-08T05:00:51.286989",
     "status": "completed"
    },
    "tags": []
   },
   "outputs": [],
   "source": [
    "TopHits = pd.DataFrame(columns=['playlist_url',\n",
    "                                'year',\n",
    "                                'track_id',\n",
    "                                'track_name', \n",
    "                                'track_popularity', \n",
    "                                'album',\n",
    "                                'artist_id',\n",
    "                                'artist_name', \n",
    "                                'artist_genres', \n",
    "                                'artist_popularity',  \n",
    "                                'danceability', \n",
    "                                'energy', \n",
    "                                'key', \n",
    "                                'loudness', \n",
    "                                'mode', \n",
    "                                'speechiness', \n",
    "                                'acousticness', \n",
    "                                'instrumentalness', \n",
    "                                'liveness', \n",
    "                                'valence', \n",
    "                                'tempo', \n",
    "                                'duration_ms', \n",
    "                                'time_signature'])"
   ]
  },
  {
   "cell_type": "code",
   "execution_count": 9,
   "id": "6d0bb5e9",
   "metadata": {
    "execution": {
     "iopub.execute_input": "2023-09-08T05:00:51.334831Z",
     "iopub.status.busy": "2023-09-08T05:00:51.333466Z",
     "iopub.status.idle": "2023-09-08T05:16:35.280291Z",
     "shell.execute_reply": "2023-09-08T05:16:35.278705Z"
    },
    "papermill": {
     "duration": 943.962263,
     "end_time": "2023-09-08T05:16:35.283645",
     "exception": false,
     "start_time": "2023-09-08T05:00:51.321382",
     "status": "completed"
    },
    "tags": []
   },
   "outputs": [],
   "source": [
    "for playlist_api in playlists_api:\n",
    "    response = requests.get(playlist_api, headers=headers)\n",
    "    top_tracks = response.json()['items']\n",
    "    playlist_url = 'https://open.spotify.com/playlist/' + playlist_api.split(\"/\")[-2].split(\"?\")[0]\n",
    "    year = playlists_api.index[playlists_api == playlist_api][0]\n",
    "    for top_track in top_tracks:        \n",
    "        track_id = top_track['track']['uri'].replace('spotify:track:', '')\n",
    "        artist_id = top_track['track']['artists'][0]['uri'].replace('spotify:artist:', '')\n",
    "        artist_info = requests.get('https://api.spotify.com/v1/' + 'artists' + '/' + artist_id, headers=headers)\n",
    "        artist_info = artist_info.json()\n",
    "        audio_features = requests.get('https://api.spotify.com/v1/' + 'audio-features' + '/' + track_id, headers=headers)\n",
    "        \n",
    "        if audio_features.status_code == 404:\n",
    "            new_row = pd.Series({'track_id': track_id,\n",
    "                   'track_name': top_track['track']['name'], \n",
    "                   'track_popularity': top_track['track']['popularity'], \n",
    "                   'album': top_track['track']['album']['name'],\n",
    "                   'artist_id': artist_id,\n",
    "                   'artist_name': top_track['track']['artists'][0]['name'], \n",
    "                   'artist_genres': artist_info['genres'], \n",
    "                   'artist_popularity': artist_info['popularity']})\n",
    "        else:\n",
    "            audio_features = audio_features.json()\n",
    "            new_row = pd.Series({'track_id': track_id,\n",
    "                   'track_name': top_track['track']['name'], \n",
    "                   'track_popularity': top_track['track']['popularity'], \n",
    "                   'album': top_track['track']['album']['name'],\n",
    "                   'artist_id': artist_id,\n",
    "                   'artist_name': top_track['track']['artists'][0]['name'], \n",
    "                   'artist_genres': artist_info['genres'], \n",
    "                   'artist_popularity': artist_info['popularity'],  \n",
    "                   'danceability': audio_features['danceability'], \n",
    "                   'energy': audio_features['energy'], \n",
    "                   'key': audio_features['key'], \n",
    "                   'loudness': audio_features['loudness'], \n",
    "                   'mode': audio_features['mode'], \n",
    "                   'speechiness': audio_features['speechiness'], \n",
    "                   'acousticness': audio_features['acousticness'], \n",
    "                   'instrumentalness': audio_features['instrumentalness'], \n",
    "                   'liveness': audio_features['liveness'], \n",
    "                   'valence': audio_features['valence'], \n",
    "                   'tempo': audio_features['tempo'], \n",
    "                   'duration_ms': audio_features['duration_ms'], \n",
    "                   'time_signature': audio_features['time_signature']})\n",
    "        TopHits = pd.concat([TopHits, new_row.to_frame().T], ignore_index=True)\n",
    "        sleep(0.2)\n",
    "    values = {'playlist_url': playlist_url, 'year': year}\n",
    "    TopHits = TopHits.fillna(value=values)"
   ]
  },
  {
   "cell_type": "code",
   "execution_count": 10,
   "id": "818b88ad",
   "metadata": {
    "execution": {
     "iopub.execute_input": "2023-09-08T05:16:35.304905Z",
     "iopub.status.busy": "2023-09-08T05:16:35.304207Z",
     "iopub.status.idle": "2023-09-08T05:16:35.393053Z",
     "shell.execute_reply": "2023-09-08T05:16:35.391868Z"
    },
    "papermill": {
     "duration": 0.102865,
     "end_time": "2023-09-08T05:16:35.396112",
     "exception": false,
     "start_time": "2023-09-08T05:16:35.293247",
     "status": "completed"
    },
    "tags": []
   },
   "outputs": [],
   "source": [
    "audio_features = requests.get('https://api.spotify.com/v1/' + 'audio-features' + '/' + '37i9dQZEVXbMDoHDwVN2tF', headers=headers)"
   ]
  },
  {
   "cell_type": "code",
   "execution_count": 11,
   "id": "b3865e45",
   "metadata": {
    "execution": {
     "iopub.execute_input": "2023-09-08T05:16:35.417113Z",
     "iopub.status.busy": "2023-09-08T05:16:35.415566Z",
     "iopub.status.idle": "2023-09-08T05:16:35.426002Z",
     "shell.execute_reply": "2023-09-08T05:16:35.424396Z"
    },
    "papermill": {
     "duration": 0.023582,
     "end_time": "2023-09-08T05:16:35.428591",
     "exception": false,
     "start_time": "2023-09-08T05:16:35.405009",
     "status": "completed"
    },
    "tags": []
   },
   "outputs": [
    {
     "data": {
      "text/plain": [
       "<Response [404]>"
      ]
     },
     "execution_count": 11,
     "metadata": {},
     "output_type": "execute_result"
    }
   ],
   "source": [
    "audio_features"
   ]
  },
  {
   "cell_type": "code",
   "execution_count": 12,
   "id": "b2dcf62e",
   "metadata": {
    "execution": {
     "iopub.execute_input": "2023-09-08T05:16:35.449207Z",
     "iopub.status.busy": "2023-09-08T05:16:35.448811Z",
     "iopub.status.idle": "2023-09-08T05:16:35.496291Z",
     "shell.execute_reply": "2023-09-08T05:16:35.495370Z"
    },
    "papermill": {
     "duration": 0.060788,
     "end_time": "2023-09-08T05:16:35.498546",
     "exception": false,
     "start_time": "2023-09-08T05:16:35.437758",
     "status": "completed"
    },
    "tags": []
   },
   "outputs": [
    {
     "data": {
      "text/html": [
       "<div>\n",
       "<style scoped>\n",
       "    .dataframe tbody tr th:only-of-type {\n",
       "        vertical-align: middle;\n",
       "    }\n",
       "\n",
       "    .dataframe tbody tr th {\n",
       "        vertical-align: top;\n",
       "    }\n",
       "\n",
       "    .dataframe thead th {\n",
       "        text-align: right;\n",
       "    }\n",
       "</style>\n",
       "<table border=\"1\" class=\"dataframe\">\n",
       "  <thead>\n",
       "    <tr style=\"text-align: right;\">\n",
       "      <th></th>\n",
       "      <th>playlist_url</th>\n",
       "      <th>year</th>\n",
       "      <th>track_id</th>\n",
       "      <th>track_name</th>\n",
       "      <th>track_popularity</th>\n",
       "      <th>album</th>\n",
       "      <th>artist_id</th>\n",
       "      <th>artist_name</th>\n",
       "      <th>artist_genres</th>\n",
       "      <th>artist_popularity</th>\n",
       "      <th>...</th>\n",
       "      <th>loudness</th>\n",
       "      <th>mode</th>\n",
       "      <th>speechiness</th>\n",
       "      <th>acousticness</th>\n",
       "      <th>instrumentalness</th>\n",
       "      <th>liveness</th>\n",
       "      <th>valence</th>\n",
       "      <th>tempo</th>\n",
       "      <th>duration_ms</th>\n",
       "      <th>time_signature</th>\n",
       "    </tr>\n",
       "  </thead>\n",
       "  <tbody>\n",
       "    <tr>\n",
       "      <th>0</th>\n",
       "      <td>https://open.spotify.com/playlist/37i9dQZF1DWU...</td>\n",
       "      <td>2000.0</td>\n",
       "      <td>3AJwUDP919kvQ9QcozQPxg</td>\n",
       "      <td>Yellow</td>\n",
       "      <td>91</td>\n",
       "      <td>Parachutes</td>\n",
       "      <td>4gzpq5DPGxSnKTe4SA8HAU</td>\n",
       "      <td>Coldplay</td>\n",
       "      <td>[permanent wave, pop]</td>\n",
       "      <td>86</td>\n",
       "      <td>...</td>\n",
       "      <td>-7.227</td>\n",
       "      <td>1</td>\n",
       "      <td>0.0281</td>\n",
       "      <td>0.00239</td>\n",
       "      <td>0.000121</td>\n",
       "      <td>0.234</td>\n",
       "      <td>0.285</td>\n",
       "      <td>173.372</td>\n",
       "      <td>266773</td>\n",
       "      <td>4</td>\n",
       "    </tr>\n",
       "    <tr>\n",
       "      <th>1</th>\n",
       "      <td>https://open.spotify.com/playlist/37i9dQZF1DWU...</td>\n",
       "      <td>2000.0</td>\n",
       "      <td>2m1hi0nfMR9vdGC8UcrnwU</td>\n",
       "      <td>All The Small Things</td>\n",
       "      <td>84</td>\n",
       "      <td>Enema Of The State</td>\n",
       "      <td>6FBDaR13swtiWwGhX1WQsP</td>\n",
       "      <td>blink-182</td>\n",
       "      <td>[alternative metal, modern rock, pop punk, pun...</td>\n",
       "      <td>75</td>\n",
       "      <td>...</td>\n",
       "      <td>-4.918</td>\n",
       "      <td>1</td>\n",
       "      <td>0.0488</td>\n",
       "      <td>0.0103</td>\n",
       "      <td>0</td>\n",
       "      <td>0.612</td>\n",
       "      <td>0.684</td>\n",
       "      <td>148.726</td>\n",
       "      <td>167067</td>\n",
       "      <td>4</td>\n",
       "    </tr>\n",
       "    <tr>\n",
       "      <th>2</th>\n",
       "      <td>https://open.spotify.com/playlist/37i9dQZF1DWU...</td>\n",
       "      <td>2000.0</td>\n",
       "      <td>3y4LxiYMgDl4RethdzpmNe</td>\n",
       "      <td>Breathe</td>\n",
       "      <td>69</td>\n",
       "      <td>Breathe</td>\n",
       "      <td>25NQNriVT2YbSW80ILRWJa</td>\n",
       "      <td>Faith Hill</td>\n",
       "      <td>[contemporary country, country, country dawn, ...</td>\n",
       "      <td>61</td>\n",
       "      <td>...</td>\n",
       "      <td>-9.007</td>\n",
       "      <td>1</td>\n",
       "      <td>0.029</td>\n",
       "      <td>0.173</td>\n",
       "      <td>0</td>\n",
       "      <td>0.251</td>\n",
       "      <td>0.278</td>\n",
       "      <td>136.859</td>\n",
       "      <td>250547</td>\n",
       "      <td>4</td>\n",
       "    </tr>\n",
       "    <tr>\n",
       "      <th>3</th>\n",
       "      <td>https://open.spotify.com/playlist/37i9dQZF1DWU...</td>\n",
       "      <td>2000.0</td>\n",
       "      <td>60a0Rd6pjrkxjPbaKzXjfq</td>\n",
       "      <td>In the End</td>\n",
       "      <td>88</td>\n",
       "      <td>Hybrid Theory (Bonus Edition)</td>\n",
       "      <td>6XyY86QOPPrYVGvF9ch6wz</td>\n",
       "      <td>Linkin Park</td>\n",
       "      <td>[alternative metal, nu metal, post-grunge, rap...</td>\n",
       "      <td>83</td>\n",
       "      <td>...</td>\n",
       "      <td>-5.87</td>\n",
       "      <td>0</td>\n",
       "      <td>0.0584</td>\n",
       "      <td>0.00958</td>\n",
       "      <td>0</td>\n",
       "      <td>0.209</td>\n",
       "      <td>0.4</td>\n",
       "      <td>105.143</td>\n",
       "      <td>216880</td>\n",
       "      <td>4</td>\n",
       "    </tr>\n",
       "    <tr>\n",
       "      <th>4</th>\n",
       "      <td>https://open.spotify.com/playlist/37i9dQZF1DWU...</td>\n",
       "      <td>2000.0</td>\n",
       "      <td>62bOmKYxYg7dhrC6gH9vFn</td>\n",
       "      <td>Bye Bye Bye</td>\n",
       "      <td>74</td>\n",
       "      <td>No Strings Attached</td>\n",
       "      <td>6Ff53KvcvAj5U7Z1vojB5o</td>\n",
       "      <td>*NSYNC</td>\n",
       "      <td>[boy band, dance pop, pop]</td>\n",
       "      <td>65</td>\n",
       "      <td>...</td>\n",
       "      <td>-4.843</td>\n",
       "      <td>0</td>\n",
       "      <td>0.0479</td>\n",
       "      <td>0.031</td>\n",
       "      <td>0.0012</td>\n",
       "      <td>0.0821</td>\n",
       "      <td>0.861</td>\n",
       "      <td>172.638</td>\n",
       "      <td>200400</td>\n",
       "      <td>4</td>\n",
       "    </tr>\n",
       "    <tr>\n",
       "      <th>...</th>\n",
       "      <td>...</td>\n",
       "      <td>...</td>\n",
       "      <td>...</td>\n",
       "      <td>...</td>\n",
       "      <td>...</td>\n",
       "      <td>...</td>\n",
       "      <td>...</td>\n",
       "      <td>...</td>\n",
       "      <td>...</td>\n",
       "      <td>...</td>\n",
       "      <td>...</td>\n",
       "      <td>...</td>\n",
       "      <td>...</td>\n",
       "      <td>...</td>\n",
       "      <td>...</td>\n",
       "      <td>...</td>\n",
       "      <td>...</td>\n",
       "      <td>...</td>\n",
       "      <td>...</td>\n",
       "      <td>...</td>\n",
       "      <td>...</td>\n",
       "    </tr>\n",
       "    <tr>\n",
       "      <th>2295</th>\n",
       "      <td>https://open.spotify.com/playlist/56r5qRUv3jSx...</td>\n",
       "      <td>2022.0</td>\n",
       "      <td>2g6tReTlM2Akp41g0HaeXN</td>\n",
       "      <td>Die Hard</td>\n",
       "      <td>79</td>\n",
       "      <td>Mr. Morale &amp; The Big Steppers</td>\n",
       "      <td>2YZyLoL8N0Wb9xBt1NhZWg</td>\n",
       "      <td>Kendrick Lamar</td>\n",
       "      <td>[conscious hip hop, hip hop, rap, west coast rap]</td>\n",
       "      <td>86</td>\n",
       "      <td>...</td>\n",
       "      <td>-8.072</td>\n",
       "      <td>0</td>\n",
       "      <td>0.247</td>\n",
       "      <td>0.319</td>\n",
       "      <td>0.00116</td>\n",
       "      <td>0.127</td>\n",
       "      <td>0.362</td>\n",
       "      <td>100.988</td>\n",
       "      <td>239027</td>\n",
       "      <td>4</td>\n",
       "    </tr>\n",
       "    <tr>\n",
       "      <th>2296</th>\n",
       "      <td>https://open.spotify.com/playlist/56r5qRUv3jSx...</td>\n",
       "      <td>2022.0</td>\n",
       "      <td>4pi1G1x8tl9VfdD9bL3maT</td>\n",
       "      <td>Big Energy</td>\n",
       "      <td>69</td>\n",
       "      <td>777</td>\n",
       "      <td>3MdXrJWsbVzdn6fe5JYkSQ</td>\n",
       "      <td>Latto</td>\n",
       "      <td>[trap queen]</td>\n",
       "      <td>85</td>\n",
       "      <td>...</td>\n",
       "      <td>-4.431</td>\n",
       "      <td>0</td>\n",
       "      <td>0.115</td>\n",
       "      <td>0.0453</td>\n",
       "      <td>0</td>\n",
       "      <td>0.341</td>\n",
       "      <td>0.794</td>\n",
       "      <td>106.022</td>\n",
       "      <td>172540</td>\n",
       "      <td>4</td>\n",
       "    </tr>\n",
       "    <tr>\n",
       "      <th>2297</th>\n",
       "      <td>https://open.spotify.com/playlist/56r5qRUv3jSx...</td>\n",
       "      <td>2022.0</td>\n",
       "      <td>3LtpKP5abr2qqjunvjlX5i</td>\n",
       "      <td>Doja</td>\n",
       "      <td>86</td>\n",
       "      <td>Doja</td>\n",
       "      <td>5H4yInM5zmHqpKIoMNAx4r</td>\n",
       "      <td>Central Cee</td>\n",
       "      <td>[melodic drill]</td>\n",
       "      <td>82</td>\n",
       "      <td>...</td>\n",
       "      <td>-7.43</td>\n",
       "      <td>1</td>\n",
       "      <td>0.288</td>\n",
       "      <td>0.38</td>\n",
       "      <td>0</td>\n",
       "      <td>0.403</td>\n",
       "      <td>0.972</td>\n",
       "      <td>140.04</td>\n",
       "      <td>97393</td>\n",
       "      <td>4</td>\n",
       "    </tr>\n",
       "    <tr>\n",
       "      <th>2298</th>\n",
       "      <td>https://open.spotify.com/playlist/56r5qRUv3jSx...</td>\n",
       "      <td>2022.0</td>\n",
       "      <td>3XOalgusokruzA5ZBA2Qcb</td>\n",
       "      <td>pushin P (feat. Young Thug)</td>\n",
       "      <td>77</td>\n",
       "      <td>DS4EVER</td>\n",
       "      <td>2hlmm7s2ICUX0LVIhVFlZQ</td>\n",
       "      <td>Gunna</td>\n",
       "      <td>[atl hip hop, melodic rap, rap, trap]</td>\n",
       "      <td>84</td>\n",
       "      <td>...</td>\n",
       "      <td>-4.572</td>\n",
       "      <td>0</td>\n",
       "      <td>0.187</td>\n",
       "      <td>0.00783</td>\n",
       "      <td>0.00693</td>\n",
       "      <td>0.129</td>\n",
       "      <td>0.488</td>\n",
       "      <td>77.502</td>\n",
       "      <td>136267</td>\n",
       "      <td>1</td>\n",
       "    </tr>\n",
       "    <tr>\n",
       "      <th>2299</th>\n",
       "      <td>https://open.spotify.com/playlist/56r5qRUv3jSx...</td>\n",
       "      <td>2022.0</td>\n",
       "      <td>1r8ZCjfrQxoy2wVaBUbpwg</td>\n",
       "      <td>Thousand Miles</td>\n",
       "      <td>77</td>\n",
       "      <td>Thousand Miles</td>\n",
       "      <td>2tIP7SsRs7vjIcLrU85W8J</td>\n",
       "      <td>The Kid LAROI</td>\n",
       "      <td>[australian hip hop]</td>\n",
       "      <td>78</td>\n",
       "      <td>...</td>\n",
       "      <td>-4.658</td>\n",
       "      <td>1</td>\n",
       "      <td>0.0768</td>\n",
       "      <td>0.0858</td>\n",
       "      <td>0</td>\n",
       "      <td>0.0884</td>\n",
       "      <td>0.203</td>\n",
       "      <td>80.565</td>\n",
       "      <td>164782</td>\n",
       "      <td>4</td>\n",
       "    </tr>\n",
       "  </tbody>\n",
       "</table>\n",
       "<p>2300 rows × 23 columns</p>\n",
       "</div>"
      ],
      "text/plain": [
       "                                           playlist_url    year  \\\n",
       "0     https://open.spotify.com/playlist/37i9dQZF1DWU...  2000.0   \n",
       "1     https://open.spotify.com/playlist/37i9dQZF1DWU...  2000.0   \n",
       "2     https://open.spotify.com/playlist/37i9dQZF1DWU...  2000.0   \n",
       "3     https://open.spotify.com/playlist/37i9dQZF1DWU...  2000.0   \n",
       "4     https://open.spotify.com/playlist/37i9dQZF1DWU...  2000.0   \n",
       "...                                                 ...     ...   \n",
       "2295  https://open.spotify.com/playlist/56r5qRUv3jSx...  2022.0   \n",
       "2296  https://open.spotify.com/playlist/56r5qRUv3jSx...  2022.0   \n",
       "2297  https://open.spotify.com/playlist/56r5qRUv3jSx...  2022.0   \n",
       "2298  https://open.spotify.com/playlist/56r5qRUv3jSx...  2022.0   \n",
       "2299  https://open.spotify.com/playlist/56r5qRUv3jSx...  2022.0   \n",
       "\n",
       "                    track_id                   track_name track_popularity  \\\n",
       "0     3AJwUDP919kvQ9QcozQPxg                       Yellow               91   \n",
       "1     2m1hi0nfMR9vdGC8UcrnwU         All The Small Things               84   \n",
       "2     3y4LxiYMgDl4RethdzpmNe                      Breathe               69   \n",
       "3     60a0Rd6pjrkxjPbaKzXjfq                   In the End               88   \n",
       "4     62bOmKYxYg7dhrC6gH9vFn                  Bye Bye Bye               74   \n",
       "...                      ...                          ...              ...   \n",
       "2295  2g6tReTlM2Akp41g0HaeXN                     Die Hard               79   \n",
       "2296  4pi1G1x8tl9VfdD9bL3maT                   Big Energy               69   \n",
       "2297  3LtpKP5abr2qqjunvjlX5i                         Doja               86   \n",
       "2298  3XOalgusokruzA5ZBA2Qcb  pushin P (feat. Young Thug)               77   \n",
       "2299  1r8ZCjfrQxoy2wVaBUbpwg               Thousand Miles               77   \n",
       "\n",
       "                              album               artist_id     artist_name  \\\n",
       "0                        Parachutes  4gzpq5DPGxSnKTe4SA8HAU        Coldplay   \n",
       "1                Enema Of The State  6FBDaR13swtiWwGhX1WQsP       blink-182   \n",
       "2                           Breathe  25NQNriVT2YbSW80ILRWJa      Faith Hill   \n",
       "3     Hybrid Theory (Bonus Edition)  6XyY86QOPPrYVGvF9ch6wz     Linkin Park   \n",
       "4               No Strings Attached  6Ff53KvcvAj5U7Z1vojB5o          *NSYNC   \n",
       "...                             ...                     ...             ...   \n",
       "2295  Mr. Morale & The Big Steppers  2YZyLoL8N0Wb9xBt1NhZWg  Kendrick Lamar   \n",
       "2296                            777  3MdXrJWsbVzdn6fe5JYkSQ           Latto   \n",
       "2297                           Doja  5H4yInM5zmHqpKIoMNAx4r     Central Cee   \n",
       "2298                        DS4EVER  2hlmm7s2ICUX0LVIhVFlZQ           Gunna   \n",
       "2299                 Thousand Miles  2tIP7SsRs7vjIcLrU85W8J   The Kid LAROI   \n",
       "\n",
       "                                          artist_genres artist_popularity  \\\n",
       "0                                 [permanent wave, pop]                86   \n",
       "1     [alternative metal, modern rock, pop punk, pun...                75   \n",
       "2     [contemporary country, country, country dawn, ...                61   \n",
       "3     [alternative metal, nu metal, post-grunge, rap...                83   \n",
       "4                            [boy band, dance pop, pop]                65   \n",
       "...                                                 ...               ...   \n",
       "2295  [conscious hip hop, hip hop, rap, west coast rap]                86   \n",
       "2296                                       [trap queen]                85   \n",
       "2297                                    [melodic drill]                82   \n",
       "2298              [atl hip hop, melodic rap, rap, trap]                84   \n",
       "2299                               [australian hip hop]                78   \n",
       "\n",
       "      ... loudness mode speechiness acousticness instrumentalness liveness  \\\n",
       "0     ...   -7.227    1      0.0281      0.00239         0.000121    0.234   \n",
       "1     ...   -4.918    1      0.0488       0.0103                0    0.612   \n",
       "2     ...   -9.007    1       0.029        0.173                0    0.251   \n",
       "3     ...    -5.87    0      0.0584      0.00958                0    0.209   \n",
       "4     ...   -4.843    0      0.0479        0.031           0.0012   0.0821   \n",
       "...   ...      ...  ...         ...          ...              ...      ...   \n",
       "2295  ...   -8.072    0       0.247        0.319          0.00116    0.127   \n",
       "2296  ...   -4.431    0       0.115       0.0453                0    0.341   \n",
       "2297  ...    -7.43    1       0.288         0.38                0    0.403   \n",
       "2298  ...   -4.572    0       0.187      0.00783          0.00693    0.129   \n",
       "2299  ...   -4.658    1      0.0768       0.0858                0   0.0884   \n",
       "\n",
       "     valence    tempo duration_ms time_signature  \n",
       "0      0.285  173.372      266773              4  \n",
       "1      0.684  148.726      167067              4  \n",
       "2      0.278  136.859      250547              4  \n",
       "3        0.4  105.143      216880              4  \n",
       "4      0.861  172.638      200400              4  \n",
       "...      ...      ...         ...            ...  \n",
       "2295   0.362  100.988      239027              4  \n",
       "2296   0.794  106.022      172540              4  \n",
       "2297   0.972   140.04       97393              4  \n",
       "2298   0.488   77.502      136267              1  \n",
       "2299   0.203   80.565      164782              4  \n",
       "\n",
       "[2300 rows x 23 columns]"
      ]
     },
     "execution_count": 12,
     "metadata": {},
     "output_type": "execute_result"
    }
   ],
   "source": [
    "TopHits"
   ]
  },
  {
   "cell_type": "code",
   "execution_count": 13,
   "id": "a6ad0232",
   "metadata": {
    "execution": {
     "iopub.execute_input": "2023-09-08T05:16:35.522069Z",
     "iopub.status.busy": "2023-09-08T05:16:35.520693Z",
     "iopub.status.idle": "2023-09-08T05:16:35.598489Z",
     "shell.execute_reply": "2023-09-08T05:16:35.597051Z"
    },
    "papermill": {
     "duration": 0.092844,
     "end_time": "2023-09-08T05:16:35.601495",
     "exception": false,
     "start_time": "2023-09-08T05:16:35.508651",
     "status": "completed"
    },
    "tags": []
   },
   "outputs": [],
   "source": [
    "TopHits.to_csv('playlist_2010to2022',index=False)"
   ]
  },
  {
   "cell_type": "code",
   "execution_count": null,
   "id": "b4fa8b8b",
   "metadata": {
    "papermill": {
     "duration": 0.009398,
     "end_time": "2023-09-08T05:16:35.620888",
     "exception": false,
     "start_time": "2023-09-08T05:16:35.611490",
     "status": "completed"
    },
    "tags": []
   },
   "outputs": [],
   "source": []
  }
 ],
 "metadata": {
  "kernelspec": {
   "display_name": "Python 3 (ipykernel)",
   "language": "python",
   "name": "python3"
  },
  "language_info": {
   "codemirror_mode": {
    "name": "ipython",
    "version": 3
   },
   "file_extension": ".py",
   "mimetype": "text/x-python",
   "name": "python",
   "nbconvert_exporter": "python",
   "pygments_lexer": "ipython3",
   "version": "3.12.7"
  },
  "papermill": {
   "default_parameters": {},
   "duration": 967.07312,
   "end_time": "2023-09-08T05:16:36.357807",
   "environment_variables": {},
   "exception": null,
   "input_path": "__notebook__.ipynb",
   "output_path": "__notebook__.ipynb",
   "parameters": {},
   "start_time": "2023-09-08T05:00:29.284687",
   "version": "2.4.0"
  }
 },
 "nbformat": 4,
 "nbformat_minor": 5
}
